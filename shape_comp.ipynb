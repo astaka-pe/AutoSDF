{
 "cells": [
  {
   "cell_type": "code",
   "execution_count": 10,
   "metadata": {},
   "outputs": [],
   "source": [
    "import argparse\n",
    "import torch.backends.cudnn as cudnn\n",
    "import torchvision.utils as vutils\n",
    "from pytorch3d.io import IO\n",
    "\n",
    "#cudnn.benchmark = True\n",
    "\n",
    "import utils\n",
    "from utils.util_3d import init_mesh_renderer, sdf_to_mesh\n",
    "from utils.qual_util import save_mesh_as_gif\n",
    "from utils.demo_util import get_shape_comp_model, get_shape_comp_opt\n",
    "from utils.qual_util import get_partial_shape_by_range\n",
    "from preprocess.process_one_mesh import process_obj\n",
    "\n",
    "%reload_ext autoreload\n",
    "%autoreload 2"
   ]
  },
  {
   "cell_type": "code",
   "execution_count": 2,
   "metadata": {},
   "outputs": [],
   "source": [
    "def get_parser():\n",
    "    parser = argparse.ArgumentParser(description=\"MeshConv\")\n",
    "    parser.add_argument(\"-i\", \"--input\", type=str, required=True)\n",
    "    parser.add_argument(\"-o\", \"--output\", type=str, default=\"output.obj\")\n",
    "    parser.add_argument(\"-model_path\", type=str, default=\"saved_ckpt/rand_tf-snet_code-all-LR1e-4-clean-epoch200.pth\")\n",
    "    args = parser.parse_args()\n",
    "    return args\n",
    "\n",
    "def save_mesh(path, mesh):\n",
    "    IO().save_mesh(mesh, path)"
   ]
  },
  {
   "cell_type": "code",
   "execution_count": 22,
   "metadata": {},
   "outputs": [],
   "source": [
    "class AutoSDFComp():\n",
    "    def __init__(self, mesh_path, model_path):\n",
    "        self.load_pretrained_model(model_path)\n",
    "        self.load_mesh(mesh_path)\n",
    "\n",
    "    def load_pretrained_model(self, path):\n",
    "        self.opt = get_shape_comp_opt(gpu_id=1)\n",
    "        self.model = get_shape_comp_model(self.opt)\n",
    "        self.model.load_ckpt(path)\n",
    "        self.model.eval()\n",
    "\n",
    "    def load_mesh(self, path):\n",
    "        sdf_file = process_obj(path)\n",
    "        min_x, max_x = -1., 0.\n",
    "        min_y, max_y = -1., 0.\n",
    "        min_z, max_z = -1., 0.\n",
    "        sdf = utils.util_3d.read_sdf(sdf_file).to(self.opt.device)\n",
    "        input_range = {'x1': min_x, 'x2': max_x, 'y1': min_y, 'y2': max_y, 'z1': min_z, 'z2': max_z}\n",
    "        self.input = get_partial_shape_by_range(sdf, input_range)\n",
    "\n",
    "    def completion(self):\n",
    "        input_mesh, comp_sdf = self.model.shape_comp(self.input, bs=9, topk=30)\n",
    "        save_mesh(\"input.obj\", input_mesh)\n",
    "        gen_mesh = sdf_to_mesh(comp_sdf)\n",
    "        return gen_mesh"
   ]
  },
  {
   "cell_type": "code",
   "execution_count": 23,
   "metadata": {},
   "outputs": [
    {
     "name": "stdout",
     "output_type": "stream",
     "text": [
      "[*] Enc has Attn at i_level, i_block: 3, 0\n",
      "Working with z of shape (1, 256, 8, 8, 8) = 131072 dimensions.\n",
      "[*] Dec has Attn at i_level, i_block: 3, 0\n",
      "\u001b[34m[*] VQVAE: weight successfully load from: saved_ckpt/pvqvae-snet-all-LR1e-4-T0.2-rerun-epoch140.pth\u001b[0m\n",
      "\u001b[34m[*] Model has been created: Rand-Transformer-Model\u001b[0m\n",
      "[*] \"rand_tf\" initialized.\n",
      "\u001b[34m[*] weight successfully load from: saved_ckpt/rand_tf-snet_code-all-LR1e-4-clean-epoch200.pth\u001b[0m\n",
      "\u001b[34m[*] weight successfully load from: saved_ckpt/rand_tf-snet_code-all-LR1e-4-clean-epoch200.pth\u001b[0m\n",
      "[*] creating tmp/for_sdf/sdf/fandisk_original/isosurf.sdf\n",
      "[*] trimesh_load: demo_data/fandisk_original.obj\n",
      "[*] export_mesh:  tmp/for_sdf/norm_mesh/fandisk_original/pc_norm.obj\n",
      "[*] command: ./preprocess/isosurface/computeDistanceField tmp/for_sdf/norm_mesh/fandisk_original/pc_norm.obj 256 256 256 -s  -e 1.3 -o 0.dist -m 1 -c\n",
      "Expansion ratio is: 1.3.\n",
      "sigma = 0.0148704 = 2 grids\n",
      "bandwidth = 0.037176 = 5 grids\n",
      "Data output format is: IEEE single (32-bit) precision.\n",
      "UseCubeBox: 1\n",
      "********* Computing signed distance field (256 x 256 x 256) *************\n",
      "Forcing a cube-sized bounding box.\n",
      "********* Computing unsigned distance field (256 x 256 x 256) *************\n",
      "Building BV Tree...Done\n",
      "Computing the distance field...\n",
      "Corners of the bounding box are:\n",
      "  [-0.962279 -0.888039 -0.940876]\n",
      "  [0.941134 1.01537 0.962537]\n",
      "Grid sizes are: 0.00743521 0.00743521 0.00743521\n",
      "64 0 128 168 176 160 65 144 192 208 224 1 129 66 220 216 169 177 161 67 145 2 130 193 209 68 170 225 178 162 221 131 3 217 69 146 171 194 179 210 163 70 4 132 226 222 71 147 218 180 172 5 164 72 133 195 211 73 148 6 223 134 227 181 165 173 74 219 196 75 149 135 7 166 212 182 174 76 175 228 240 77 96 197 136 8 150 167 80 78 97 183 79 213 81 98 9 137 151 82 198 99 229 241 152 184 10 83 100 32 138 214 248 101 84 33 11 199 153 102 85 230 185 139 242 103 12 86 34 104 154 200 215 87 249 140 13 186 35 105 231 88 243 106 36 155 14 89 201 107 141 37 204 187 90 250 15 108 156 232 38 109 91 142 16 202 244 188 92 39 110 205 17 157 93 143 40 251 111 233 94 203 18 41 189 245 112 206 158 95 42 19 113 246 234 120 252 43 114 191 190 20 48 159 247 121 207 44 115 49 124 21 56 122 45 116 235 126 50 253 125 57 22 117 46 52 236 51 123 254 47 127 58 118 119 53 23 60 62 63 54 59 61 55 24 255 30 31 28 237 256 25 27 26 238 29 239 \n",
      "Unsigned distance field successfully computed...\n",
      "Computing the isosurface using marching cubes. Iso-level: 0.014870.\n",
      "Sorting vertices and triangles...\n",
      "Done. Time: 0.029934s\n",
      "Finishing marching cubes...\n",
      "Removing interior components...\n",
      "Detected 1 groups in the isoMesh.\n",
      "********* Recomputing signed distance field (256 x 256 x 256) *************\n",
      "Applying offset -0.0148704 to the distance field. Resolution is 256 x 256 x 256.\n",
      "Building BV Tree...Done\n",
      "Computing the distance field...\n",
      "Corners of the bounding box are:\n",
      "  [-0.962279 -0.888039 -0.940876]\n",
      "  [0.941134 1.01537 0.962537]\n",
      "Grid sizes are: 0.00743521 0.00743521 0.00743521\n",
      "0 1 240 2 248 3 4 241 5 249 224 6 7 252 225 250 8 242 9 253 226 10 251 243 11 12 254 227 13 244 14 255 228 15 16 245 256 229 17 18 19 230 232 246 20 21 231 233 22 247 23 24 234 25 235 26 236 27 237 28 238 29 239 192 30 31 32 208 33 200 34 35 36 193 184 209 37 201 160 38 144 168 136 210 39 176 194 128 185 40 202 188 211 41 195 169 212 42 203 186 161 43 213 145 177 137 196 44 204 214 187 45 215 170 129 189 197 205 46 216 178 162 217 47 206 218 198 219 171 190 48 138 179 220 207 146 199 221 49 130 163 132 222 223 191 50 172 51 164 182 152 147 52 134 173 180 131 133 140 53 165 183 139 54 174 175 181 153 135 148 55 166 142 141 56 159 158 143 64 60 154 150 155 57 167 156 58 149 62 65 61 96 66 59 63 80 151 104 157 120 112 67 124 88 97 81 100 105 68 92 94 121 113 82 69 98 125 101 106 89 95 126 70 83 122 114 93 71 90 102 127 99 123 107 84 103 86 72 115 91 87 108 85 110 116 73 76 119 74 78 118 75 111 77 79 109 117 \n",
      "Signed distance field successfully computed...\n",
      "Applying offset 0.0148704 to the distance field. Resolution is 256 x 256 x 256.\n",
      "Computation time: 22.7155\n",
      "Saving the distance field to 0.dist .\n",
      "[*] command: mv 0.dist tmp/for_sdf/sdf/fandisk_original/isosurf.sdf\n",
      "[*] sample_sdf: 0.02059459686279297 s\n",
      "[*] start writing:  demo_data/fandisk_original_sdf.h5\n",
      "[*] end writing:  demo_data/fandisk_original_sdf.h5\n",
      "[*] command: rm -rf tmp/for_sdf/norm_mesh/fandisk_original/pc_norm.obj\n",
      "[*] command: rm -rf tmp/for_sdf/sdf/fandisk_original/isosurf.sdf\n",
      "[*] successfully extract sdf and save to: demo_data/fandisk_original_sdf.h5\n"
     ]
    }
   ],
   "source": [
    "model_path = \"saved_ckpt/rand_tf-snet_code-all-LR1e-4-clean-epoch200.pth\"\n",
    "mesh_path = \"demo_data/chair_model.obj\"\n",
    "mesh_path = \"demo_data/fandisk_original.obj\"\n",
    "compnet = AutoSDFComp(mesh_path, model_path)"
   ]
  },
  {
   "cell_type": "code",
   "execution_count": 24,
   "metadata": {},
   "outputs": [
    {
     "name": "stderr",
     "output_type": "stream",
     "text": [
      "[*] autoregressively inferencing...: 100%|██████████| 448/448 [00:34<00:00, 12.91it/s]\n"
     ]
    }
   ],
   "source": [
    "out_mesh = compnet.completion()"
   ]
  },
  {
   "cell_type": "code",
   "execution_count": 25,
   "metadata": {},
   "outputs": [],
   "source": [
    "save_mesh(\"output.obj\", out_mesh[0])"
   ]
  },
  {
   "cell_type": "code",
   "execution_count": null,
   "metadata": {},
   "outputs": [],
   "source": []
  }
 ],
 "metadata": {
  "interpreter": {
   "hash": "eefacf46cf3c5a9c85cd5753c0170a7785664e340157c445d4592ae6b5e529e8"
  },
  "kernelspec": {
   "display_name": "Python 3.8.11 ('autosdf')",
   "language": "python",
   "name": "python3"
  },
  "language_info": {
   "codemirror_mode": {
    "name": "ipython",
    "version": 3
   },
   "file_extension": ".py",
   "mimetype": "text/x-python",
   "name": "python",
   "nbconvert_exporter": "python",
   "pygments_lexer": "ipython3",
   "version": "3.8.11"
  },
  "orig_nbformat": 4
 },
 "nbformat": 4,
 "nbformat_minor": 2
}
